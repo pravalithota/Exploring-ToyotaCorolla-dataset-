{
 "cells": [
  {
   "cell_type": "code",
   "execution_count": 2,
   "id": "217b79a6-76ae-4cd1-ad2b-e83b1a4aac25",
   "metadata": {
    "tags": []
   },
   "outputs": [
    {
     "name": "stderr",
     "output_type": "stream",
     "text": [
      "UsageError: unrecognized arguments: #renders the figure in a notebook\n"
     ]
    }
   ],
   "source": [
    "from pathlib import Path # to interact with file system.\n",
    "\n",
    "import numpy as np # for working with arrays.\n",
    "import pandas as pd # for working with data frames (tables).\n",
    "\n",
    "from sklearn.model_selection import train_test_split # for data partition.\n",
    "from sklearn.metrics import r2_score # to identify r_squared for regression model.\n",
    "from sklearn.linear_model import LinearRegression # for linear regression model.\n",
    "\n",
    "%matplotlib inline #renders the figure in a notebook\n",
    "import matplotlib.pylab as plt"
   ]
  },
  {
   "cell_type": "code",
   "execution_count": null,
   "id": "c46dbaa4-c597-4cc3-8867-1d5dcc5d9800",
   "metadata": {},
   "outputs": [],
   "source": [
    "#Create a data frame in Python using ToyotaCorolla.csv file.\n",
    "ToyotaCorolla_df = pd.read_csv('ToyotaCorolla.csv')"
   ]
  },
  {
   "cell_type": "code",
   "execution_count": 40,
   "id": "81b1348c-e479-441a-a574-74c0e60f4ae3",
   "metadata": {
    "tags": []
   },
   "outputs": [
    {
     "data": {
      "text/html": [
       "<div>\n",
       "<style scoped>\n",
       "    .dataframe tbody tr th:only-of-type {\n",
       "        vertical-align: middle;\n",
       "    }\n",
       "\n",
       "    .dataframe tbody tr th {\n",
       "        vertical-align: top;\n",
       "    }\n",
       "\n",
       "    .dataframe thead th {\n",
       "        text-align: right;\n",
       "    }\n",
       "</style>\n",
       "<table border=\"1\" class=\"dataframe\">\n",
       "  <thead>\n",
       "    <tr style=\"text-align: right;\">\n",
       "      <th></th>\n",
       "      <th>Id</th>\n",
       "      <th>Model</th>\n",
       "      <th>Price</th>\n",
       "      <th>Age_08_04</th>\n",
       "      <th>Mfg_Month</th>\n",
       "      <th>Mfg_Year</th>\n",
       "      <th>KM</th>\n",
       "      <th>Fuel_Type</th>\n",
       "      <th>HP</th>\n",
       "      <th>Met_Color</th>\n",
       "      <th>...</th>\n",
       "      <th>Powered_Windows</th>\n",
       "      <th>Power_Steering</th>\n",
       "      <th>Radio</th>\n",
       "      <th>Mistlamps</th>\n",
       "      <th>Sport_Model</th>\n",
       "      <th>Backseat_Divider</th>\n",
       "      <th>Metallic_Rim</th>\n",
       "      <th>Radio_cassette</th>\n",
       "      <th>Parking_Assistant</th>\n",
       "      <th>Tow_Bar</th>\n",
       "    </tr>\n",
       "  </thead>\n",
       "  <tbody>\n",
       "    <tr>\n",
       "      <th>0</th>\n",
       "      <td>1</td>\n",
       "      <td>TOYOTA Corolla 2.0 D4D HATCHB TERRA 2/3-Doors</td>\n",
       "      <td>13500</td>\n",
       "      <td>23</td>\n",
       "      <td>10</td>\n",
       "      <td>2002</td>\n",
       "      <td>46986</td>\n",
       "      <td>Diesel</td>\n",
       "      <td>90</td>\n",
       "      <td>1</td>\n",
       "      <td>...</td>\n",
       "      <td>1</td>\n",
       "      <td>1</td>\n",
       "      <td>0</td>\n",
       "      <td>0</td>\n",
       "      <td>0</td>\n",
       "      <td>1</td>\n",
       "      <td>0</td>\n",
       "      <td>0</td>\n",
       "      <td>0</td>\n",
       "      <td>0</td>\n",
       "    </tr>\n",
       "    <tr>\n",
       "      <th>1</th>\n",
       "      <td>2</td>\n",
       "      <td>TOYOTA Corolla 2.0 D4D HATCHB TERRA 2/3-Doors</td>\n",
       "      <td>13750</td>\n",
       "      <td>23</td>\n",
       "      <td>10</td>\n",
       "      <td>2002</td>\n",
       "      <td>72937</td>\n",
       "      <td>Diesel</td>\n",
       "      <td>90</td>\n",
       "      <td>1</td>\n",
       "      <td>...</td>\n",
       "      <td>0</td>\n",
       "      <td>1</td>\n",
       "      <td>0</td>\n",
       "      <td>0</td>\n",
       "      <td>0</td>\n",
       "      <td>1</td>\n",
       "      <td>0</td>\n",
       "      <td>0</td>\n",
       "      <td>0</td>\n",
       "      <td>0</td>\n",
       "    </tr>\n",
       "    <tr>\n",
       "      <th>2</th>\n",
       "      <td>3</td>\n",
       "      <td>TOYOTA Corolla 2.0 D4D HATCHB TERRA 2/3-Doors</td>\n",
       "      <td>13950</td>\n",
       "      <td>24</td>\n",
       "      <td>9</td>\n",
       "      <td>2002</td>\n",
       "      <td>41711</td>\n",
       "      <td>Diesel</td>\n",
       "      <td>90</td>\n",
       "      <td>1</td>\n",
       "      <td>...</td>\n",
       "      <td>0</td>\n",
       "      <td>1</td>\n",
       "      <td>0</td>\n",
       "      <td>0</td>\n",
       "      <td>0</td>\n",
       "      <td>1</td>\n",
       "      <td>0</td>\n",
       "      <td>0</td>\n",
       "      <td>0</td>\n",
       "      <td>0</td>\n",
       "    </tr>\n",
       "    <tr>\n",
       "      <th>3</th>\n",
       "      <td>4</td>\n",
       "      <td>TOYOTA Corolla 2.0 D4D HATCHB TERRA 2/3-Doors</td>\n",
       "      <td>14950</td>\n",
       "      <td>26</td>\n",
       "      <td>7</td>\n",
       "      <td>2002</td>\n",
       "      <td>48000</td>\n",
       "      <td>Diesel</td>\n",
       "      <td>90</td>\n",
       "      <td>0</td>\n",
       "      <td>...</td>\n",
       "      <td>0</td>\n",
       "      <td>1</td>\n",
       "      <td>0</td>\n",
       "      <td>0</td>\n",
       "      <td>0</td>\n",
       "      <td>1</td>\n",
       "      <td>0</td>\n",
       "      <td>0</td>\n",
       "      <td>0</td>\n",
       "      <td>0</td>\n",
       "    </tr>\n",
       "    <tr>\n",
       "      <th>4</th>\n",
       "      <td>5</td>\n",
       "      <td>TOYOTA Corolla 2.0 D4D HATCHB SOL 2/3-Doors</td>\n",
       "      <td>13750</td>\n",
       "      <td>30</td>\n",
       "      <td>3</td>\n",
       "      <td>2002</td>\n",
       "      <td>38500</td>\n",
       "      <td>Diesel</td>\n",
       "      <td>90</td>\n",
       "      <td>0</td>\n",
       "      <td>...</td>\n",
       "      <td>1</td>\n",
       "      <td>1</td>\n",
       "      <td>0</td>\n",
       "      <td>1</td>\n",
       "      <td>0</td>\n",
       "      <td>1</td>\n",
       "      <td>0</td>\n",
       "      <td>0</td>\n",
       "      <td>0</td>\n",
       "      <td>0</td>\n",
       "    </tr>\n",
       "  </tbody>\n",
       "</table>\n",
       "<p>5 rows × 39 columns</p>\n",
       "</div>"
      ],
      "text/plain": [
       "   Id                                          Model  Price  Age_08_04  \\\n",
       "0   1  TOYOTA Corolla 2.0 D4D HATCHB TERRA 2/3-Doors  13500         23   \n",
       "1   2  TOYOTA Corolla 2.0 D4D HATCHB TERRA 2/3-Doors  13750         23   \n",
       "2   3  TOYOTA Corolla 2.0 D4D HATCHB TERRA 2/3-Doors  13950         24   \n",
       "3   4  TOYOTA Corolla 2.0 D4D HATCHB TERRA 2/3-Doors  14950         26   \n",
       "4   5    TOYOTA Corolla 2.0 D4D HATCHB SOL 2/3-Doors  13750         30   \n",
       "\n",
       "   Mfg_Month  Mfg_Year     KM Fuel_Type  HP  Met_Color  ... Powered_Windows  \\\n",
       "0         10      2002  46986    Diesel  90          1  ...               1   \n",
       "1         10      2002  72937    Diesel  90          1  ...               0   \n",
       "2          9      2002  41711    Diesel  90          1  ...               0   \n",
       "3          7      2002  48000    Diesel  90          0  ...               0   \n",
       "4          3      2002  38500    Diesel  90          0  ...               1   \n",
       "\n",
       "   Power_Steering  Radio  Mistlamps  Sport_Model  Backseat_Divider  \\\n",
       "0               1      0          0            0                 1   \n",
       "1               1      0          0            0                 1   \n",
       "2               1      0          0            0                 1   \n",
       "3               1      0          0            0                 1   \n",
       "4               1      0          1            0                 1   \n",
       "\n",
       "   Metallic_Rim  Radio_cassette  Parking_Assistant  Tow_Bar  \n",
       "0             0               0                  0        0  \n",
       "1             0               0                  0        0  \n",
       "2             0               0                  0        0  \n",
       "3             0               0                  0        0  \n",
       "4             0               0                  0        0  \n",
       "\n",
       "[5 rows x 39 columns]"
      ]
     },
     "execution_count": 40,
     "metadata": {},
     "output_type": "execute_result"
    }
   ],
   "source": [
    "ToyotaCorolla_df.head()"
   ]
  },
  {
   "cell_type": "code",
   "execution_count": 41,
   "id": "474f2656-b24b-4dcb-bfb0-17aaa3e972dc",
   "metadata": {
    "tags": []
   },
   "outputs": [
    {
     "name": "stdout",
     "output_type": "stream",
     "text": [
      "              Id       Price  Age_08_04  Mfg_Month   Mfg_Year           KM  \\\n",
      "count  1436.0000   1436.0000  1436.0000  1436.0000  1436.0000    1436.0000   \n",
      "mean    721.5550  10730.8245    55.9471     5.5487  1999.6253   68533.2597   \n",
      "std     416.4769   3626.9646    18.6000     3.3541     1.5407   37506.4489   \n",
      "min       1.0000   4350.0000     1.0000     1.0000  1998.0000       1.0000   \n",
      "25%     361.7500   8450.0000    44.0000     3.0000  1998.0000   43000.0000   \n",
      "50%     721.5000   9900.0000    61.0000     5.0000  1999.0000   63389.5000   \n",
      "75%    1081.2500  11950.0000    70.0000     8.0000  2001.0000   87020.7500   \n",
      "max    1442.0000  32500.0000    80.0000    12.0000  2004.0000  243000.0000   \n",
      "\n",
      "              HP  Met_Color  Automatic          CC  ...  Powered_Windows  \\\n",
      "count  1436.0000  1436.0000  1436.0000   1436.0000  ...        1436.0000   \n",
      "mean    101.5021     0.6748     0.0557   1576.8558  ...           0.5620   \n",
      "std      14.9811     0.4686     0.2294    424.3868  ...           0.4963   \n",
      "min      69.0000     0.0000     0.0000   1300.0000  ...           0.0000   \n",
      "25%      90.0000     0.0000     0.0000   1400.0000  ...           0.0000   \n",
      "50%     110.0000     1.0000     0.0000   1600.0000  ...           1.0000   \n",
      "75%     110.0000     1.0000     0.0000   1600.0000  ...           1.0000   \n",
      "max     192.0000     1.0000     1.0000  16000.0000  ...           1.0000   \n",
      "\n",
      "       Power_Steering      Radio  Mistlamps  Sport_Model  Backseat_Divider  \\\n",
      "count       1436.0000  1436.0000  1436.0000    1436.0000         1436.0000   \n",
      "mean           0.9777     0.1462     0.2570       0.3001            0.7702   \n",
      "std            0.1477     0.3535     0.4371       0.4585            0.4209   \n",
      "min            0.0000     0.0000     0.0000       0.0000            0.0000   \n",
      "25%            1.0000     0.0000     0.0000       0.0000            1.0000   \n",
      "50%            1.0000     0.0000     0.0000       0.0000            1.0000   \n",
      "75%            1.0000     0.0000     1.0000       1.0000            1.0000   \n",
      "max            1.0000     1.0000     1.0000       1.0000            1.0000   \n",
      "\n",
      "       Metallic_Rim  Radio_cassette  Parking_Assistant    Tow_Bar  \n",
      "count     1436.0000       1436.0000          1436.0000  1436.0000  \n",
      "mean         0.2047          0.1455             0.0028     0.2779  \n",
      "std          0.4036          0.3528             0.0527     0.4481  \n",
      "min          0.0000          0.0000             0.0000     0.0000  \n",
      "25%          0.0000          0.0000             0.0000     0.0000  \n",
      "50%          0.0000          0.0000             0.0000     0.0000  \n",
      "75%          0.0000          0.0000             0.0000     1.0000  \n",
      "max          1.0000          1.0000             1.0000     1.0000  \n",
      "\n",
      "[8 rows x 36 columns]\n"
     ]
    }
   ],
   "source": [
    "summary_stats = np.round(ToyotaCorolla_df.describe(), decimals=4)\n",
    "summary_stats.to_csv('summary.csv',index=True)\n",
    "print(summary_stats)"
   ]
  },
  {
   "cell_type": "code",
   "execution_count": 45,
   "id": "5ec4c28a-5893-4f6d-8b0e-ce2b7d79106e",
   "metadata": {
    "tags": []
   },
   "outputs": [
    {
     "name": "stdout",
     "output_type": "stream",
     "text": [
      "0      -0.574495\n",
      "1       0.117413\n",
      "2      -0.715137\n",
      "3      -0.547459\n",
      "4      -0.800749\n",
      "          ...   \n",
      "1431   -1.279494\n",
      "1432   -1.320660\n",
      "1433   -1.373557\n",
      "1434   -1.376224\n",
      "1435   -1.827213\n",
      "Name: KM, Length: 1436, dtype: float64\n"
     ]
    },
    {
     "data": {
      "text/html": [
       "<div>\n",
       "<style scoped>\n",
       "    .dataframe tbody tr th:only-of-type {\n",
       "        vertical-align: middle;\n",
       "    }\n",
       "\n",
       "    .dataframe tbody tr th {\n",
       "        vertical-align: top;\n",
       "    }\n",
       "\n",
       "    .dataframe thead th {\n",
       "        text-align: right;\n",
       "    }\n",
       "</style>\n",
       "<table border=\"1\" class=\"dataframe\">\n",
       "  <thead>\n",
       "    <tr style=\"text-align: right;\">\n",
       "      <th></th>\n",
       "      <th>Normalized_KM</th>\n",
       "    </tr>\n",
       "  </thead>\n",
       "  <tbody>\n",
       "    <tr>\n",
       "      <th>0</th>\n",
       "      <td>-0.574695</td>\n",
       "    </tr>\n",
       "    <tr>\n",
       "      <th>1</th>\n",
       "      <td>0.117454</td>\n",
       "    </tr>\n",
       "    <tr>\n",
       "      <th>2</th>\n",
       "      <td>-0.715386</td>\n",
       "    </tr>\n",
       "    <tr>\n",
       "      <th>3</th>\n",
       "      <td>-0.547650</td>\n",
       "    </tr>\n",
       "    <tr>\n",
       "      <th>4</th>\n",
       "      <td>-0.801028</td>\n",
       "    </tr>\n",
       "    <tr>\n",
       "      <th>...</th>\n",
       "      <td>...</td>\n",
       "    </tr>\n",
       "    <tr>\n",
       "      <th>1431</th>\n",
       "      <td>-1.279939</td>\n",
       "    </tr>\n",
       "    <tr>\n",
       "      <th>1432</th>\n",
       "      <td>-1.321120</td>\n",
       "    </tr>\n",
       "    <tr>\n",
       "      <th>1433</th>\n",
       "      <td>-1.374036</td>\n",
       "    </tr>\n",
       "    <tr>\n",
       "      <th>1434</th>\n",
       "      <td>-1.376703</td>\n",
       "    </tr>\n",
       "    <tr>\n",
       "      <th>1435</th>\n",
       "      <td>-1.827849</td>\n",
       "    </tr>\n",
       "  </tbody>\n",
       "</table>\n",
       "<p>1436 rows × 1 columns</p>\n",
       "</div>"
      ],
      "text/plain": [
       "      Normalized_KM\n",
       "0         -0.574695\n",
       "1          0.117454\n",
       "2         -0.715386\n",
       "3         -0.547650\n",
       "4         -0.801028\n",
       "...             ...\n",
       "1431      -1.279939\n",
       "1432      -1.321120\n",
       "1433      -1.374036\n",
       "1434      -1.376703\n",
       "1435      -1.827849\n",
       "\n",
       "[1436 rows x 1 columns]"
      ]
     },
     "execution_count": 45,
     "metadata": {},
     "output_type": "execute_result"
    }
   ],
   "source": [
    "# Normalize the variable kilometers\n",
    "# pandas:\n",
    "norm_df_KM = (ToyotaCorolla_df.KM - ToyotaCorolla_df.KM.mean()) / ToyotaCorolla_df.KM.std()\n",
    "print(norm_df_KM)\n",
    "\n",
    "# using scikit-learn: \n",
    "from sklearn.preprocessing import MinMaxScaler, StandardScaler\n",
    "ToyotaCorolla_df = ToyotaCorolla_df.copy()\n",
    "\n",
    "# Reshaping the 'KM' column to make it a 2D array\n",
    "KM_reshaped = ToyotaCorolla_df['KM'].values.reshape(-1, 1)\n",
    "scaler = StandardScaler()\n",
    "\n",
    "# Convert the numpy array back to a dataframe\n",
    "norm_KM = pd.DataFrame(scaler.fit_transform(KM_reshaped), columns=['Normalized_KM'])\n",
    "norm_KM"
   ]
  },
  {
   "cell_type": "code",
   "execution_count": 19,
   "id": "63906786-7ffd-40d1-a97c-b639d6948c2e",
   "metadata": {
    "tags": []
   },
   "outputs": [
    {
     "data": {
      "text/plain": [
       "Index(['Id', 'Model', 'Price', 'Age_08_04', 'Mfg_Month', 'Mfg_Year', 'KM',\n",
       "       'Fuel_Type', 'HP', 'Met_Color', 'Color', 'Automatic', 'CC', 'Doors',\n",
       "       'Cylinders', 'Gears', 'Quarterly_Tax', 'Weight', 'Mfr_Guarantee',\n",
       "       'BOVAG_Guarantee', 'Guarantee_Period', 'ABS', 'Airbag_1', 'Airbag_2',\n",
       "       'Airco', 'Automatic_airco', 'Boardcomputer', 'CD_Player',\n",
       "       'Central_Lock', 'Powered_Windows', 'Power_Steering', 'Radio',\n",
       "       'Mistlamps', 'Sport_Model', 'Backseat_Divider', 'Metallic_Rim',\n",
       "       'Radio_cassette', 'Parking_Assistant', 'Tow_Bar'],\n",
       "      dtype='object')"
      ]
     },
     "execution_count": 19,
     "metadata": {},
     "output_type": "execute_result"
    }
   ],
   "source": [
    "ToyotaCorolla_df.columns"
   ]
  },
  {
   "cell_type": "code",
   "execution_count": 30,
   "id": "5e2d2fa0-dc75-4ea0-9852-a810423af3d7",
   "metadata": {
    "tags": []
   },
   "outputs": [
    {
     "data": {
      "text/plain": [
       "Index(['Id', 'Model', 'Price', 'Age_08_04', 'Mfg_Month', 'Mfg_Year', 'KM',\n",
       "       'HP', 'Met_Color', 'Color', 'Automatic', 'CC', 'Doors', 'Cylinders',\n",
       "       'Gears', 'Quarterly_Tax', 'Weight', 'Mfr_Guarantee', 'BOVAG_Guarantee',\n",
       "       'Guarantee_Period', 'ABS', 'Airbag_1', 'Airbag_2', 'Airco',\n",
       "       'Automatic_airco', 'Boardcomputer', 'CD_Player', 'Central_Lock',\n",
       "       'Powered_Windows', 'Power_Steering', 'Radio', 'Mistlamps',\n",
       "       'Sport_Model', 'Backseat_Divider', 'Metallic_Rim', 'Radio_cassette',\n",
       "       'Parking_Assistant', 'Tow_Bar', 'Fuel_Type_Diesel', 'Fuel_Type_Petrol'],\n",
       "      dtype='object')"
      ]
     },
     "execution_count": 30,
     "metadata": {},
     "output_type": "execute_result"
    }
   ],
   "source": [
    "# Use the 'get_dummies' function to create dummies\n",
    "ToyotaCorolla_df = pd.get_dummies(ToyotaCorolla_df, columns=['Fuel_Type'], drop_first=True)\n",
    "ToyotaCorolla_df .columns"
   ]
  },
  {
   "cell_type": "code",
   "execution_count": 26,
   "id": "fc1e9cf0-aa08-4cc9-9335-006ae447f668",
   "metadata": {
    "tags": []
   },
   "outputs": [
    {
     "data": {
      "text/plain": [
       "(1436, 39)"
      ]
     },
     "execution_count": 26,
     "metadata": {},
     "output_type": "execute_result"
    }
   ],
   "source": [
    "ToyotaCorolla_df.shape"
   ]
  },
  {
   "cell_type": "code",
   "execution_count": 43,
   "id": "161e7abc-a51f-404e-b748-7e953a18049c",
   "metadata": {
    "tags": []
   },
   "outputs": [
    {
     "name": "stdout",
     "output_type": "stream",
     "text": [
      "Training   :  (718, 39)\n",
      "Validation :  (431, 39)\n",
      "Test       :  (287, 39)\n",
      "\n",
      "Training   :  (718, 39)\n",
      "Validation :  (430, 39)\n",
      "Test       :  (288, 39)\n"
     ]
    }
   ],
   "source": [
    "# randomly sample 50% of the data for training\n",
    "trainData = ToyotaCorolla_df.sample(frac=0.5, random_state=1)\n",
    "# sample 30% of the row IDs into the validation set, drawing only from records\n",
    "# not already in the training set; 60% of 50% is 30%\n",
    "validData = ToyotaCorolla_df.drop(trainData.index).sample(frac=0.6, random_state=1)  \n",
    "# the remaining 20% rows serve as test\n",
    "testData = ToyotaCorolla_df.drop(trainData.index).drop(validData.index)\n",
    "\n",
    "print('Training   : ', trainData.shape)\n",
    "print('Validation : ', validData.shape)\n",
    "print('Test       : ', testData.shape)\n",
    "print()\n",
    "\n",
    "# alternative way using scikit-learn\n",
    "trainData, temp = train_test_split(ToyotaCorolla_df, test_size=0.5, random_state=1)\n",
    "validData, testData = train_test_split(temp, test_size=0.4, random_state=1)\n",
    "print('Training   : ', trainData.shape)\n",
    "print('Validation : ', validData.shape)\n",
    "print('Test       : ', testData.shape)"
   ]
  },
  {
   "cell_type": "code",
   "execution_count": null,
   "id": "f6f5cf7e-855f-4315-8428-3c06dc6dc9f7",
   "metadata": {},
   "outputs": [],
   "source": []
  }
 ],
 "metadata": {
  "kernelspec": {
   "display_name": "Python 3 (ipykernel)",
   "language": "python",
   "name": "python3"
  },
  "language_info": {
   "codemirror_mode": {
    "name": "ipython",
    "version": 3
   },
   "file_extension": ".py",
   "mimetype": "text/x-python",
   "name": "python",
   "nbconvert_exporter": "python",
   "pygments_lexer": "ipython3",
   "version": "3.11.5"
  }
 },
 "nbformat": 4,
 "nbformat_minor": 5
}
